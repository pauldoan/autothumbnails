{
 "cells": [
  {
   "cell_type": "code",
   "execution_count": 1,
   "metadata": {},
   "outputs": [],
   "source": [
    "import os\n",
    "from moviepy.editor import VideoFileClip\n",
    "import mimetypes\n",
    "from pydub import AudioSegment\n",
    "from IPython.display import Audio\n",
    "from io import BytesIO\n",
    "import tempfile"
   ]
  },
  {
   "cell_type": "markdown",
   "metadata": {},
   "source": [
    "### Read file and get type"
   ]
  },
  {
   "cell_type": "code",
   "execution_count": 2,
   "metadata": {},
   "outputs": [],
   "source": [
    "def get_file_type(file):\n",
    "    \"\"\"Determines if a file is audio, video, or image based on MIME type.\"\"\"\n",
    "    # Check if input is a file-like object\n",
    "    if hasattr(file, \"name\"):\n",
    "        # If a file-like object is passed, get its name attribute\n",
    "        file_name = file.name\n",
    "    else:\n",
    "        # Otherwise, assume it's a file path\n",
    "        file_name = file\n",
    "\n",
    "    mime_type, _ = mimetypes.guess_type(file_name)\n",
    "\n",
    "    if mime_type:\n",
    "        if mime_type.startswith(\"audio\"):\n",
    "            return \"audio\"\n",
    "        elif mime_type.startswith(\"video\"):\n",
    "            return \"video\"\n",
    "        elif mime_type.startswith(\"image\"):\n",
    "            return \"image\"\n",
    "\n",
    "    # Return None if the MIME type is unknown or doesn't match these categories\n",
    "    return None"
   ]
  },
  {
   "cell_type": "code",
   "execution_count": null,
   "metadata": {},
   "outputs": [],
   "source": [
    "audio_file_path = \"audiofile.m4a\"\n",
    "image_file_path = \"imagefile.jpeg\"\n",
    "video_file_path = \"videofile.MOV\"\n",
    "\n",
    "with open(audio_file_path, \"rb\") as f:\n",
    "    print(\"audio file type:\", get_file_type(audio_file_path))\n",
    "\n",
    "with open(image_file_path, \"rb\") as f:\n",
    "    print(\"image file type:\", get_file_type(image_file_path))\n",
    "\n",
    "with open(video_file_path, \"rb\") as f:\n",
    "    print(\"video file type:\", get_file_type(video_file_path))"
   ]
  },
  {
   "cell_type": "markdown",
   "metadata": {},
   "source": [
    "### Process audio"
   ]
  },
  {
   "cell_type": "code",
   "execution_count": 5,
   "metadata": {},
   "outputs": [],
   "source": [
    "def process_audio_to_mp3(audio_file):\n",
    "    \"\"\"\n",
    "    Converts an opened audio file to MP3 format and returns the audio data in a BytesIO object.\n",
    "\n",
    "    Parameters:\n",
    "    audio_file (file-like object): An opened file-like object containing the audio.\n",
    "\n",
    "    Returns:\n",
    "    BytesIO: In-memory MP3 data.\n",
    "    \"\"\"\n",
    "    try:\n",
    "        # Load the audio file from the file-like object\n",
    "        audio = AudioSegment.from_file(audio_file)\n",
    "    except Exception as e:\n",
    "        print(f\"Error loading audio file: {e}\")\n",
    "        return None\n",
    "\n",
    "    # Create an in-memory bytes buffer\n",
    "    mp3_data = BytesIO()\n",
    "\n",
    "    # Export the audio as MP3 to the buffer\n",
    "    try:\n",
    "        audio.export(mp3_data, format=\"mp3\")\n",
    "        mp3_data.seek(0)  # Rewind the buffer to the beginning\n",
    "        print(\"Audio converted to MP3 format in memory.\")\n",
    "        return mp3_data\n",
    "    except Exception as e:\n",
    "        print(f\"Error exporting audio to MP3: {e}\")\n",
    "        return None"
   ]
  },
  {
   "cell_type": "code",
   "execution_count": null,
   "metadata": {},
   "outputs": [],
   "source": [
    "with open(audio_file_path, \"rb\") as audio_file:\n",
    "    mp3_data = process_audio_to_mp3(audio_file)"
   ]
  },
  {
   "cell_type": "code",
   "execution_count": null,
   "metadata": {},
   "outputs": [],
   "source": [
    "# Play the audio file\n",
    "Audio(mp3_data.getvalue())"
   ]
  },
  {
   "cell_type": "markdown",
   "metadata": {},
   "source": [
    "### Extract audio from video"
   ]
  },
  {
   "cell_type": "code",
   "execution_count": 4,
   "metadata": {},
   "outputs": [],
   "source": [
    "def extract_audio_from_video(video_file):\n",
    "    \"\"\"\n",
    "    Extracts audio from an opened video file and returns it as a file-like object (BytesIO).\n",
    "\n",
    "    Parameters:\n",
    "    video_file (file-like object): An opened file-like object containing the video.\n",
    "\n",
    "    Returns:\n",
    "    BytesIO: In-memory audio data in WAV format.\n",
    "    \"\"\"\n",
    "    print(\"Extracting audio from video...\")\n",
    "\n",
    "    with tempfile.TemporaryDirectory() as temp_dir:\n",
    "        # Save the video file-like object to a temporary file\n",
    "        temp_video_path = os.path.join(temp_dir, \"temp_video.mp4\")\n",
    "        with open(temp_video_path, \"wb\") as temp_video_file:\n",
    "            temp_video_file.write(video_file.read())\n",
    "\n",
    "        # Load the video clip from the temporary file path\n",
    "        video_clip = VideoFileClip(temp_video_path, verbose=False)\n",
    "        audio_clip = video_clip.audio\n",
    "\n",
    "        # Create a temporary file to save the audio\n",
    "        temp_audio_path = os.path.join(temp_dir, \"temp_audio.wav\")\n",
    "\n",
    "        # Write the audio clip to the temporary audio file\n",
    "        audio_clip.write_audiofile(\n",
    "            temp_audio_path, codec=\"pcm_s16le\", verbose=False, logger=None\n",
    "        )\n",
    "\n",
    "        # Load the audio data into a BytesIO object\n",
    "        audio_buffer = BytesIO()\n",
    "        with open(temp_audio_path, \"rb\") as temp_audio:\n",
    "            audio_buffer.write(temp_audio.read())\n",
    "\n",
    "        # Clean up\n",
    "        video_clip.close()\n",
    "\n",
    "    # Rewind the BytesIO buffer for further reading\n",
    "    audio_buffer.seek(0)\n",
    "    print(\"Audio extracted and loaded into memory.\")\n",
    "    return audio_buffer"
   ]
  },
  {
   "cell_type": "code",
   "execution_count": null,
   "metadata": {},
   "outputs": [],
   "source": [
    "with open(video_file_path, \"rb\") as video_file:\n",
    "    audio_clip = extract_audio_from_video(video_file)"
   ]
  },
  {
   "cell_type": "code",
   "execution_count": null,
   "metadata": {},
   "outputs": [],
   "source": [
    "# process audio data\n",
    "mp3_data = process_audio_to_mp3(audio_clip)"
   ]
  },
  {
   "cell_type": "code",
   "execution_count": null,
   "metadata": {},
   "outputs": [],
   "source": [
    "# Play the audio file\n",
    "Audio(mp3_data.getvalue())"
   ]
  },
  {
   "cell_type": "markdown",
   "metadata": {},
   "source": [
    "### Final function"
   ]
  },
  {
   "cell_type": "code",
   "execution_count": 16,
   "metadata": {},
   "outputs": [],
   "source": [
    "def process_file_to_mp3(file):\n",
    "    \"\"\"\n",
    "    Processes an audio or video file and returns the audio data in MP3 format.\n",
    "\n",
    "    Parameters:\n",
    "    file_path (str): Path to the audio or video file.\n",
    "\n",
    "    Returns:\n",
    "    BytesIO: In-memory MP3 data.\n",
    "\n",
    "    Raises:\n",
    "    ValueError: If the file type is not audio or video.\n",
    "    \"\"\"\n",
    "    file_type = get_file_type(file)\n",
    "    if file_type == \"audio\":\n",
    "        print(\"Processing audio file to MP3...\")\n",
    "        return process_audio_to_mp3(file)\n",
    "\n",
    "    if file_type == \"video\":\n",
    "        print(\"Processing video file to MP3...\")\n",
    "        audio_buffer = extract_audio_from_video(file)\n",
    "        return process_audio_to_mp3(audio_buffer)\n",
    "\n",
    "    else:\n",
    "        raise ValueError(\n",
    "            \"Unsupported file type. Only audio and video files are supported.\"\n",
    "        )"
   ]
  },
  {
   "cell_type": "code",
   "execution_count": null,
   "metadata": {},
   "outputs": [],
   "source": [
    "with open(audio_file_path, \"rb\") as audio_file:\n",
    "    mp3_data = process_file_to_mp3(audio_file_path)\n",
    "Audio(mp3_data.getvalue())"
   ]
  },
  {
   "cell_type": "code",
   "execution_count": null,
   "metadata": {},
   "outputs": [],
   "source": [
    "with open(video_file_path, \"rb\") as video_file:\n",
    "    mp3_data = process_file_to_mp3(video_file)\n",
    "Audio(mp3_data.getvalue())"
   ]
  },
  {
   "cell_type": "code",
   "execution_count": null,
   "metadata": {},
   "outputs": [],
   "source": []
  }
 ],
 "metadata": {
  "kernelspec": {
   "display_name": ".venv",
   "language": "python",
   "name": "python3"
  },
  "language_info": {
   "codemirror_mode": {
    "name": "ipython",
    "version": 3
   },
   "file_extension": ".py",
   "mimetype": "text/x-python",
   "name": "python",
   "nbconvert_exporter": "python",
   "pygments_lexer": "ipython3",
   "version": "3.12.5"
  }
 },
 "nbformat": 4,
 "nbformat_minor": 2
}
